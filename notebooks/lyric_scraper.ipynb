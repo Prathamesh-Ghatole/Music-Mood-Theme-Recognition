{
 "cells": [
  {
   "cell_type": "code",
   "execution_count": 1,
   "metadata": {},
   "outputs": [],
   "source": [
    "import requests\n",
    "from bs4 import BeautifulSoup\n",
    "\n",
    "# config\n",
    "from config import genius_access_token"
   ]
  },
  {
   "cell_type": "code",
   "execution_count": 2,
   "metadata": {},
   "outputs": [],
   "source": [
    "access_token = genius_access_token"
   ]
  },
  {
   "cell_type": "code",
   "execution_count": 3,
   "metadata": {},
   "outputs": [],
   "source": [
    "def search_song(song_name):\n",
    "    # Replace 'YOUR_ACCESS_TOKEN' with your Genius API access token\n",
    "    headers = {'Authorization': 'Bearer ' + access_token}\n",
    "    base_url = 'https://api.genius.com'\n",
    "    search_url = base_url + '/search?per_page=10&page=1&q=' + song_name\n",
    "\n",
    "    try:\n",
    "        response = requests.get(search_url, headers=headers)\n",
    "        response.raise_for_status()\n",
    "        data = response.json()\n",
    "        \n",
    "        # Check if any hits were found\n",
    "        if data['meta']['status'] == 200 and data['response']['hits']:\n",
    "            # Extract the first hit\n",
    "            hit = data['response']['hits'][0]['result']\n",
    "            # Print the page URL\n",
    "            return hit['url']\n",
    "        else:\n",
    "            return None\n",
    "    except requests.exceptions.RequestException as e:\n",
    "        print(\"Error:\", e)"
   ]
  },
  {
   "cell_type": "code",
   "execution_count": 4,
   "metadata": {},
   "outputs": [],
   "source": [
    "def scrape_song_lyrics(url):\n",
    "    page = requests.get(url)\n",
    "    soup = BeautifulSoup(page.text, \"html.parser\")\n",
    "\n",
    "    artist_name = (\n",
    "        soup.select('div[class*=\"HeaderArtistAndTracklistdesktop__Container-sc-\"]')[0]\n",
    "        .select('a[class*=\"HeaderArtistAndTracklistdesktop__Artist-sc-\"]')[0]\n",
    "        .get_text()\n",
    "    )\n",
    "    song_name = soup.select('h1[class*=\"SongHeaderdesktop__Title-sc-\"]')[0].get_text()\n",
    "\n",
    "    # print(f\"Scraping {song_name} by {artist_name}...\")\n",
    "\n",
    "    lyrics = soup.select('div[class*=\"Lyrics__Container-sc\"]')\n",
    "    lyrics = \"\\n\".join([lyric.get_text(separator=\"\\n\") for lyric in lyrics])\n",
    "\n",
    "    # print(lyrics)\n",
    "\n",
    "    return {\"song_name\": song_name, \"artist_name\": artist_name, \"lyrics\": lyrics}"
   ]
  },
  {
   "cell_type": "code",
   "execution_count": 5,
   "metadata": {},
   "outputs": [],
   "source": [
    "def get_lyrics(song_name):\n",
    "    url = search_song(song_name)\n",
    "    if url:\n",
    "        lyrics = scrape_song_lyrics(url)\n",
    "        reconstructed = f\"{lyrics['artist_name']} - {lyrics['song_name']}\"\n",
    "        print(reconstructed.lower() == song_name.lower())\n",
    "        return lyrics\n",
    "    else:\n",
    "        return None"
   ]
  },
  {
   "cell_type": "code",
   "execution_count": 6,
   "metadata": {},
   "outputs": [
    {
     "name": "stdout",
     "output_type": "stream",
     "text": [
      "False\n"
     ]
    },
    {
     "data": {
      "text/plain": [
       "{'song_name': 'One Less Bell to Answer',\n",
       " 'artist_name': 'The 5th Dimension',\n",
       " 'lyrics': \"One less bell to answer\\nOne less egg to fry\\nOne less man to pick up after\\nI should be happy\\nBut all I do is cry\\n(Cry, cry, no more laughter)\\nOh, I should be happy\\n(Oh, why did he go)\\nI only know that since he left\\nMy life's so empty\\nThough I try to forget\\nIt just can't be done\\nEach time the doorbell rings\\nI still run (I still run)\\nI don't know how in the world\\nTo stop thinking of him\\n'Cause I still love him so\\nI end each day the way I start out\\nCrying my heart out\\nOh, one less man to pick up after\\nNo more laughter\\nNo more love\\nSince he went, oh he went away (He went away)\\n(One less bell to answer)\\nWhy did he leave me\\n(Oh why, why, why did he leave)\\n(One less bell to answer)\\nNow I've got one less egg to fry\\nOne less egg to fry\\n(Oh why, why, why did he leave)\\nAnd all I do is cry\\n(One less bell to answer)\\nBecause my man told me goodbye\\n(Oh why, why, why did he leave)\\n(One less bell to answer)\\nSomebody tell me please\\nWhere did he go, why did he go\\n(Ohy, why, why did he leave)\\nTell me, how could he leave me\"}"
      ]
     },
     "execution_count": 6,
     "metadata": {},
     "output_type": "execute_result"
    }
   ],
   "source": [
    "# get_lyrics(\"Hikoyuki Sawano - Ymniam - Mkorch\")\n",
    "get_lyrics(\"5th dimension - one less bell to answer\")"
   ]
  }
 ],
 "metadata": {
  "kernelspec": {
   "display_name": "env",
   "language": "python",
   "name": "python3"
  },
  "language_info": {
   "codemirror_mode": {
    "name": "ipython",
    "version": 3
   },
   "file_extension": ".py",
   "mimetype": "text/x-python",
   "name": "python",
   "nbconvert_exporter": "python",
   "pygments_lexer": "ipython3",
   "version": "3.12.0"
  }
 },
 "nbformat": 4,
 "nbformat_minor": 2
}
