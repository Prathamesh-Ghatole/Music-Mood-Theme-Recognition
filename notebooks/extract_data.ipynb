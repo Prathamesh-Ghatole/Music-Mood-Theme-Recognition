{
 "cells": [
  {
   "cell_type": "markdown",
   "metadata": {},
   "source": [
    "## Extracting Relevant Dataset from Complete Dataset"
   ]
  },
  {
   "cell_type": "code",
   "execution_count": 2,
   "metadata": {},
   "outputs": [],
   "source": [
    "import os\n",
    "import tarfile"
   ]
  },
  {
   "cell_type": "code",
   "execution_count": 3,
   "metadata": {},
   "outputs": [],
   "source": [
    "DATASET_1_TAR = \"../data/cal500data/CAL500_noAudioFeatures.tar.gz\"\n",
    "DATASET_1_TAR_OUTPUT = \"../processed_data/CAL500_noAudioFeatures/\"\n",
    "\n",
    "DATASET_2 = \"../data/cal500data/cal500_song_tag_annotations.txt\"\n",
    "DATASET_2_OUTPUT = \"../processed_data/\""
   ]
  },
  {
   "cell_type": "code",
   "execution_count": 4,
   "metadata": {},
   "outputs": [],
   "source": [
    "def extract_tar_file(tar_file_path, destination_dir):\n",
    "    # Validate file paths\n",
    "    if not os.path.exists(tar_file_path):\n",
    "        raise FileNotFoundError(f\"Tar file '{tar_file_path}' not found.\")\n",
    "\n",
    "    # Create the destination directory if it doesn't exist\n",
    "    os.makedirs(destination_dir, exist_ok=True)\n",
    "\n",
    "    # Open the tar file\n",
    "    with tarfile.open(tar_file_path, \"r\") as tar:\n",
    "        # Extract all the files to the destination directory\n",
    "        tar.extractall(destination_dir)\n",
    "\n",
    "    print(\"Extraction complete!: \", tar_file_path)\n",
    "\n",
    "def copy(file_path, output_dir):\n",
    "    # Validate file paths\n",
    "    if not os.path.exists(file_path):\n",
    "        raise FileNotFoundError(f\"File '{file_path}' not found.\")\n",
    "\n",
    "    # Create the destination directory if it doesn't exist\n",
    "    os.makedirs(output_dir, exist_ok=True)\n",
    "\n",
    "    # Copy the file to the destination directory\n",
    "    os.system(f\"cp {file_path} {output_dir}\")\n",
    "\n",
    "    print(\"Copy complete!: \", file_path)"
   ]
  },
  {
   "cell_type": "code",
   "execution_count": 5,
   "metadata": {},
   "outputs": [],
   "source": [
    "def main():\n",
    "    # Extract the tar file\n",
    "    extract_tar_file(DATASET_1_TAR, DATASET_1_TAR_OUTPUT)\n",
    "\n",
    "    # Copy the second dataset\n",
    "    copy(DATASET_2, DATASET_2_OUTPUT)"
   ]
  },
  {
   "cell_type": "code",
   "execution_count": 6,
   "metadata": {},
   "outputs": [
    {
     "name": "stdout",
     "output_type": "stream",
     "text": [
      "Extraction complete!:  ../data/cal500data/CAL500_noAudioFeatures.tar.gz\n",
      "Copy complete!:  ../data/cal500data/cal500_song_tag_annotations.txt\n"
     ]
    }
   ],
   "source": [
    "main()"
   ]
  }
 ],
 "metadata": {
  "kernelspec": {
   "display_name": "base",
   "language": "python",
   "name": "python3"
  },
  "language_info": {
   "codemirror_mode": {
    "name": "ipython",
    "version": 3
   },
   "file_extension": ".py",
   "mimetype": "text/x-python",
   "name": "python",
   "nbconvert_exporter": "python",
   "pygments_lexer": "ipython3",
   "version": "3.12.0"
  }
 },
 "nbformat": 4,
 "nbformat_minor": 2
}
