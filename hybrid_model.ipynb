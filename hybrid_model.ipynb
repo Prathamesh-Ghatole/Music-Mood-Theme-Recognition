{
 "cells": [
  {
   "cell_type": "code",
   "execution_count": 1,
   "metadata": {},
   "outputs": [],
   "source": [
    "from llama_cpp import Llama"
   ]
  },
  {
   "cell_type": "code",
   "execution_count": 2,
   "metadata": {},
   "outputs": [
    {
     "name": "stdout",
     "output_type": "stream",
     "text": [
      "CPU times: user 59.8 ms, sys: 1.05 s, total: 1.11 s\n",
      "Wall time: 25.7 s\n"
     ]
    }
   ],
   "source": [
    "%%time\n",
    "MODEL_PATH_MISTRAL = \"models/mistral-7b-instruct-v0.2.Q3_K_M.gguf\"\n",
    "default_model = Llama(\n",
    "    model_path=MODEL_PATH_MISTRAL,\n",
    "    device=\"cuda\",\n",
    "    n_gpu_layers=-1,\n",
    "    n_ctx=2048,\n",
    "    verbose=False,\n",
    ")"
   ]
  },
  {
   "cell_type": "code",
   "execution_count": 9,
   "metadata": {},
   "outputs": [],
   "source": [
    "annotations_to_use = [\n",
    "    \"Alert\",\n",
    "    \"Excited\",\n",
    "    \"Happy\",\n",
    "    \"Content\",\n",
    "    \"Relaxed\",\n",
    "    \"Calm\",\n",
    "    \"Bored\",\n",
    "    \"Depressed\",\n",
    "    \"Sad\",\n",
    "    \"Distressed\",\n",
    "    \"Angry\",\n",
    "    \"Tense\"\n",
    "]\n",
    "\n",
    "prompt_template_default = \"\"\"\n",
    "[INST]\n",
    "\n",
    "<<SYS>>\n",
    "You are a helpful assistant. \n",
    "Always answer the user's questions in brief and clear sentences. \n",
    "Keep your outputs short while being helpful.\n",
    "<</SYS>>\n",
    "\n",
    "%%%prompt%%%\n",
    "\n",
    "[/INST]\n",
    "\"\"\"\n",
    "\n",
    "def query_llm(prompt, enforce_json=True, model=default_model):\n",
    "    if enforce_json is True:\n",
    "        response = model.create_chat_completion(\n",
    "            messages=[\n",
    "                {\n",
    "                    \"role\": \"system\",\n",
    "                    \"content\": f\"\"\"\n",
    "                You are a sentiment analysis model. \n",
    "                You are asked to analyze the sentiment of a song based on its lyrics.\n",
    "                You have to predict the following emotions with a boolean value: \n",
    "                {\", \".join(annotations_to_use)}\n",
    "                \"\"\",\n",
    "                },\n",
    "                {\"role\": \"user\", \"content\": prompt},\n",
    "            ],\n",
    "            response_format={\n",
    "                \"type\": \"json_object\",\n",
    "                \"schema\": {\n",
    "                    \"type\": \"object\",\n",
    "                    \"properties\": dict.fromkeys(annotations_to_use, {\"type\": \"boolean\"}),\n",
    "                    \"required\": annotations_to_use,\n",
    "                },\n",
    "            },\n",
    "            temperature=0.7,\n",
    "        )\n",
    "        return response[\"choices\"][0][\"message\"][\"content\"]\n",
    "    else:\n",
    "        response = model(\n",
    "            prompt_template_default.replace(\"%%%prompt%%%\", prompt),\n",
    "            max_tokens=20000,\n",
    "            temperature=0.7,\n",
    "        )\n",
    "        return response[\"choices\"][0][\"text\"]"
   ]
  },
  {
   "cell_type": "code",
   "execution_count": 10,
   "metadata": {},
   "outputs": [
    {
     "name": "stdout",
     "output_type": "stream",
     "text": [
      "CPU times: user 18.2 s, sys: 495 ms, total: 18.7 s\n",
      "Wall time: 3.26 s\n"
     ]
    },
    {
     "data": {
      "text/plain": [
       "'Narendra Modi is the current Prime Minister of India as of 2023.'"
      ]
     },
     "execution_count": 10,
     "metadata": {},
     "output_type": "execute_result"
    }
   ],
   "source": [
    "%%time\n",
    "query_llm(\"Who is the Prime Minister of India? Answer in 1 sentence\", False, default_model)"
   ]
  },
  {
   "cell_type": "code",
   "execution_count": 24,
   "metadata": {},
   "outputs": [],
   "source": [
    "def test_lyrics(input_lyrics):\n",
    "    output = query_llm(input_lyrics)\n",
    "    output = eval(test_output_1.replace(\"true\", \"True\").replace(\"false\", \"False\"))\n",
    "    # Print all keys in output where value is True\n",
    "    for k, v in output.items():\n",
    "        print(k)"
   ]
  },
  {
   "cell_type": "code",
   "execution_count": 25,
   "metadata": {},
   "outputs": [
    {
     "ename": "AttributeError",
     "evalue": "'dict' object has no attribute 'replace'",
     "output_type": "error",
     "traceback": [
      "\u001b[0;31m---------------------------------------------------------------------------\u001b[0m",
      "\u001b[0;31mAttributeError\u001b[0m                            Traceback (most recent call last)",
      "Cell \u001b[0;32mIn[25], line 62\u001b[0m\n\u001b[1;32m      1\u001b[0m test_lyric_1 \u001b[38;5;241m=\u001b[39m \u001b[38;5;124m\"\"\"\u001b[39m\n\u001b[1;32m      2\u001b[0m \u001b[38;5;124mThen I woke up in love (woke up in love)\u001b[39m\n\u001b[1;32m      3\u001b[0m \u001b[38;5;124mThen I woke up in love\u001b[39m\n\u001b[0;32m   (...)\u001b[0m\n\u001b[1;32m     55\u001b[0m \u001b[38;5;124mThought I was lost, but then I woke up in love\u001b[39m\n\u001b[1;32m     56\u001b[0m \u001b[38;5;124m\"\"\"\u001b[39m\n\u001b[1;32m     58\u001b[0m \u001b[38;5;66;03m# test_output_1 = query_llm(test_lyric_1)\u001b[39;00m\n\u001b[1;32m     59\u001b[0m \u001b[38;5;66;03m# test_output_1 = eval(test_output_1.replace(\"true\", \"True\").replace(\"false\", \"False\"))\u001b[39;00m\n\u001b[1;32m     60\u001b[0m \u001b[38;5;66;03m# test_output_1\u001b[39;00m\n\u001b[0;32m---> 62\u001b[0m \u001b[43mtest_lyrics\u001b[49m\u001b[43m(\u001b[49m\u001b[43mtest_lyric_1\u001b[49m\u001b[43m)\u001b[49m\n",
      "Cell \u001b[0;32mIn[24], line 3\u001b[0m, in \u001b[0;36mtest_lyrics\u001b[0;34m(input_lyrics)\u001b[0m\n\u001b[1;32m      1\u001b[0m \u001b[38;5;28;01mdef\u001b[39;00m \u001b[38;5;21mtest_lyrics\u001b[39m(input_lyrics):\n\u001b[1;32m      2\u001b[0m     output \u001b[38;5;241m=\u001b[39m query_llm(input_lyrics)\n\u001b[0;32m----> 3\u001b[0m     output \u001b[38;5;241m=\u001b[39m \u001b[38;5;28meval\u001b[39m(\u001b[43mtest_output_1\u001b[49m\u001b[38;5;241;43m.\u001b[39;49m\u001b[43mreplace\u001b[49m(\u001b[38;5;124m\"\u001b[39m\u001b[38;5;124mtrue\u001b[39m\u001b[38;5;124m\"\u001b[39m, \u001b[38;5;124m\"\u001b[39m\u001b[38;5;124mTrue\u001b[39m\u001b[38;5;124m\"\u001b[39m)\u001b[38;5;241m.\u001b[39mreplace(\u001b[38;5;124m\"\u001b[39m\u001b[38;5;124mfalse\u001b[39m\u001b[38;5;124m\"\u001b[39m, \u001b[38;5;124m\"\u001b[39m\u001b[38;5;124mFalse\u001b[39m\u001b[38;5;124m\"\u001b[39m))\n\u001b[1;32m      4\u001b[0m     \u001b[38;5;66;03m# Print all keys in output where value is True\u001b[39;00m\n\u001b[1;32m      5\u001b[0m     \u001b[38;5;28;01mfor\u001b[39;00m k, v \u001b[38;5;129;01min\u001b[39;00m output\u001b[38;5;241m.\u001b[39mitems():\n",
      "\u001b[0;31mAttributeError\u001b[0m: 'dict' object has no attribute 'replace'"
     ]
    }
   ],
   "source": [
    "test_lyric_1 = \"\"\"\n",
    "Then I woke up in love (woke up in love)\n",
    "Then I woke up in love\n",
    "Lately, I've been losin' these nights\n",
    "One more heartbreak and I'm done with this\n",
    "Shadows on the ceilin', they don't fight\n",
    "But I still argue for the hell of it\n",
    "I'm tryin' my hardest now, I feel you reachin' out\n",
    "I don't wanna be the one that's always on the edge\n",
    "You found me all messed up\n",
    "You found me down on my luck\n",
    "So lost, but then I woke up in love\n",
    "When I was chasin' highs\n",
    "You went and saved my life\n",
    "You picked me up, thank God I woke up in love\n",
    "With you\n",
    "Thought I was lost, but then I woke up in love\n",
    "With you\n",
    "Thought I was lost, but then I woke up in love (eh)\n",
    "Then I woke up in love (eh-eh)\n",
    "Then I woke up in love (eh)\n",
    "Then I woke up in love (eh-eh)\n",
    "Then I woke up in love\n",
    "\n",
    "Sometimes all those dark days, well, they try to find me\n",
    "But that's when I lean on you\n",
    "Whatever happens, my trouble's behind me, 'cause\n",
    "Your love's gonna see me through\n",
    "Nothing can bring me down, I feel you reachin' out\n",
    "You're pullin' me back when I'm about to reach the edge\n",
    "You found me all messed up\n",
    "You found me down on my luck\n",
    "So lost, but then I woke up in love\n",
    "When I was chasin' highs\n",
    "You went and saved my life\n",
    "You picked me up, thank God I woke up in love\n",
    "With you\n",
    "Thought I was lost, but then I woke up in love\n",
    "With you\n",
    "Thought I was lost, but then I woke up in love (eh)\n",
    "Then I woke up in love (eh-eh)\n",
    "Then I woke up in love (eh)\n",
    "Then I woke up in love (eh-eh)\n",
    "Then I woke up in love\n",
    "You found me all messed up (all messed up)\n",
    "You found me down on my luck\n",
    "So lost, but then I woke up in love (then I woke up in love)\n",
    "When I was chasin' highs\n",
    "\n",
    "You went and saved my life\n",
    "You picked me up, thank God I woke up in love (then I woke up in love)\n",
    "With you\n",
    "Thought I was lost, but then I woke up in love (woke up in love)\n",
    "With you\n",
    "Thought I was lost, but then I woke up in love\n",
    "\"\"\"\n",
    "\n",
    "# test_output_1 = query_llm(test_lyric_1)\n",
    "# test_output_1 = eval(test_output_1.replace(\"true\", \"True\").replace(\"false\", \"False\"))\n",
    "# test_output_1\n",
    "\n",
    "test_lyrics(test_lyric_1)"
   ]
  },
  {
   "cell_type": "code",
   "execution_count": 17,
   "metadata": {},
   "outputs": [
    {
     "name": "stdout",
     "output_type": "stream",
     "text": [
      "CPU times: user 14min 24s, sys: 25.1 s, total: 14min 49s\n",
      "Wall time: 1min 20s\n"
     ]
    },
    {
     "data": {
      "text/plain": [
       "{'Alert': False,\n",
       " 'Excited': True,\n",
       " 'Happy': False,\n",
       " 'Content': True,\n",
       " 'Relaxed': False,\n",
       " 'Calm': False,\n",
       " 'Bored': False,\n",
       " 'Depressed': False,\n",
       " 'Sad': False,\n",
       " 'Distressed': False,\n",
       " 'Angry': False,\n",
       " 'Tense': False}"
      ]
     },
     "execution_count": 17,
     "metadata": {},
     "output_type": "execute_result"
    }
   ],
   "source": [
    "%%time\n",
    "test_lyric_2 = \"\"\"\n",
    "Breakup song, breakup song\n",
    "Karde dil ki feeling strong\n",
    "Saade chaar minute long\n",
    "Breakup song, breakup song\n",
    "Break break B B… Breakup song\n",
    "Break break B B.. Breakup song\n",
    "Angrezi chidiya ki khaatir\n",
    "Desi dil mera tod diya\n",
    "Maine chhod diya\n",
    "Usey chhod diya\n",
    "Uski kaali kartooton ne\n",
    "Uska bhaanda phod diya\n",
    "Maine chhod diya\n",
    "Usey chhod diya\n",
    "Dil pe patthar rakh ke\n",
    "Munh pe makeup kar liya\n",
    "Oh dil pe patthar rakh ke\n",
    "Munh pe makeup kar liya\n",
    "Mere saiyyan ji se aaj\n",
    "Maine breakup kar liya\n",
    "Mere saiyyan ji se aaj\n",
    "Maine breakup kar liya\n",
    "Subah savere uth ke maine\n",
    "Ye sab kar liya\n",
    "Mere saiyyan ji se aaj\n",
    "Maine breakup kar liya\n",
    "Humko bin bataye tune\n",
    "Ye kab kar liya?\n",
    "Arey humko bin bataye tune\n",
    "Ye kab kar liya?\n",
    "Oh tere saiyyan ji se kaahe\n",
    "Tune break up kar liya\n",
    "Tere saiyyan ji se kaahe\n",
    "Tune breakup kar liya\n",
    "Subah savere uth ke maine\n",
    "Ye sab kar liya\n",
    "Tere saiyyan ji se kaahe\n",
    "Tune breakup kar liya\n",
    "B b.. breakup song\n",
    "Kuch din to rona dhona bumper kiya\n",
    "Aur phir delete uska number kiya\n",
    "Aansu jo sookhe seedha parlour gayi\n",
    "Parlour mein jaake shampoo jamkar kiya\n",
    "College ki saheliyon se catch-up kar liya\n",
    "Arey college ki saheliyon se catch-up kar liya\n",
    "Jinko mill na paayi unko whatsapp kar diya\n",
    "Mere saiyyan ji se aaj maine breakup kar liya\n",
    "Subah savere uth ke maine ye sab kar liya\n",
    "Mere saiyyan ji se aaj maine breakup kar liya\n",
    "\n",
    "Look, baby! mujhe lagta hai ki\n",
    "Jo bhi tune kiya hai wo very very right hai\n",
    "Bhoot-kaal ko bhool ja ab tu\n",
    "Aane wala future very very bright hai\n",
    "Main hoon na baby saath tere\n",
    "Party sharty honi poori night hai\n",
    "Mind na karna jo thoda zyada bol doon\n",
    "Kyunki banda very very tight hai\n",
    "Usey phone mila aur gaali de\n",
    "Photo jala ke karde raakh\n",
    "Saale teri maa ki aankh!\n",
    "Kalti hua jo saiyan stupid tera\n",
    "Jeevit hua hai phir se cupid tera\n",
    "Baasi relationship ka label hata\n",
    "Duniya ko tu hai available bata\n",
    "Arey mere soye armaano ko wake up kar diya\n",
    "Arey mere soye armaano ko wake up kar diya\n",
    "Ke tere saiyan ji se (aaha!)\n",
    "Tune breakup kar liya\n",
    "Tere saiyyan ji se kaahe tune…\n",
    "O tere saiyyan ji se kaahe tune\n",
    "breakup kar liya\n",
    "Tere saiyyan ji se kaahe tune\n",
    "breakup kar liya\n",
    "B b.. Breakup song…\n",
    "Karde dil ki feeling strong…\n",
    "\"\"\"\n",
    "\n",
    "test_output_2 = query_llm(test_lyric_2)\n",
    "test_output_2 = eval(test_output_2.replace(\"true\", \"True\").replace(\"false\", \"False\"))\n",
    "test_output_2"
   ]
  },
  {
   "cell_type": "code",
   "execution_count": 21,
   "metadata": {},
   "outputs": [
    {
     "data": {
      "text/plain": [
       "{'Alert': False,\n",
       " 'Excited': True,\n",
       " 'Happy': True,\n",
       " 'Content': False,\n",
       " 'Relaxed': False,\n",
       " 'Calm': False,\n",
       " 'Bored': False,\n",
       " 'Depressed': False,\n",
       " 'Sad': False,\n",
       " 'Distressed': False,\n",
       " 'Angry': False,\n",
       " 'Tense': False}"
      ]
     },
     "execution_count": 21,
     "metadata": {},
     "output_type": "execute_result"
    }
   ],
   "source": [
    "test_lyric_3 = \"\"\"\n",
    "bin pooche mera naam aur pata rasmon ko rakh ke pare chaar qadam bas chaar qadam chal do naa saath mere\n",
    "\n",
    "bin pooche mera naam aur pata rasmon ko rakh ke pare chaar qadam bas chaar qadam chal do naa saath mere\n",
    "\n",
    "bin kuch kahe bin kuch sune haathon mein haath liye chaar qadam bas chaar qadam chal do naa saath mere Hey bin kuch kahe bin kuch sune haathon mein haath liye chaar qadam bas chaar qadam chal do naa saath mere\n",
    "\n",
    "raahoon mein tum ko jo dhoop sataae chhaanv bicha denge hum andhere daraayen to jaa kar falak pe chaand sajaa denge hum chhae udaasi latife sunaa kar tujh ko hansaa denge hum hanste-hansaate yoon hee gunagunaate chal denge chaar qadam\n",
    "\n",
    "tum sa milee jo koyi rahaguzar duniyaa se kaun dare chaar qadam kya saaree umr chal duungi saath tere\n",
    "\n",
    "bin kuch kahe bin kuch sune haathon mein haath liye chaar qadam bas chaar qadam chal do naa saath mere bin kuch kahe bin kuch sune haathon mein haath liye chaar qadam bas chaar qadam chal do naa saath mere\n",
    "\"\"\"\n",
    "\n",
    "test_output_3 = query_llm(test_lyric_3)\n",
    "test_output_3 = eval(test_output_3.replace(\"true\", \"True\").replace(\"false\", \"False\"))\n",
    "test_output_3"
   ]
  },
  {
   "cell_type": "code",
   "execution_count": 23,
   "metadata": {},
   "outputs": [
    {
     "data": {
      "text/plain": [
       "{'Alert': False,\n",
       " 'Excited': False,\n",
       " 'Happy': False,\n",
       " 'Content': True,\n",
       " 'Relaxed': False,\n",
       " 'Calm': False,\n",
       " 'Bored': False,\n",
       " 'Depressed': False,\n",
       " 'Sad': True,\n",
       " 'Distressed': False,\n",
       " 'Angry': False,\n",
       " 'Tense': False}"
      ]
     },
     "execution_count": 23,
     "metadata": {},
     "output_type": "execute_result"
    }
   ],
   "source": [
    "test_lyric_4 = \"\"\"\n",
    "I took a pill in Ibiza\n",
    "To show Avicii I was cool\n",
    "And when I finally got sober, felt 10 years older\n",
    "But fuck it, it was something to do\n",
    "I'm living out in LA\n",
    "I drive a sports car just to prove\n",
    "I'm a real big baller cause I made a million dollars\n",
    "And I spend it on girls and shoes\n",
    "\n",
    "But you don't wanna be high like me\n",
    "Never really knowing why like me\n",
    "You don't ever wanna step off that roller coaster\n",
    "And be all alone\n",
    "You don't wanna ride the bus like this\n",
    "Never knowing who to trust like this\n",
    "You don't wanna be stuck up on that stage singing\n",
    "Stuck up on that stage singing\n",
    "All I know are sad songs, sad songs\n",
    "Darling, all I know are sad songs, sad songs\n",
    "\n",
    "I'm just a singer who already blew his shot\n",
    "I get along with old timers\n",
    "Cause my name's a reminder of a pop song people forgot\n",
    "And I can't keep a girl, no\n",
    "Cause as soon as the sun comes up\n",
    "I cut 'em all loose and work's my excuse\n",
    "But the truth is I can't open up\n",
    "\n",
    "Now you don't wanna be high like me\n",
    "Never really knowing why like me\n",
    "You don't ever wanna step off that roller coaster\n",
    "And be all alone\n",
    "You don't wanna ride the bus like this\n",
    "Never knowing who to trust like this\n",
    "You don't wanna be stuck up on that stage singing\n",
    "Stuck up on that stage singing\n",
    "All I know are sad songs, sad songs\n",
    "Darling, all I know are sad songs, sad songs\n",
    "\n",
    "I took a plane to my home town\n",
    "I brought my pride and my guitar\n",
    "All my friends are all gone but there's manicured lawns\n",
    "And the people still think I'm a star\n",
    "I walked around downtown\n",
    "I met some fans on Lafayette\n",
    "They said tell us how to make it cause we're getting real impatient\n",
    "So I looked 'em in the eye and said\n",
    "\n",
    "You don't wanna be high like me\n",
    "Never really knowing why like me\n",
    "You don't ever wanna step off that roller coaster\n",
    "And be all alone\n",
    "You don't wanna ride the bus like this\n",
    "Never knowing who to trust like this\n",
    "You don't wanna be stuck up on that stage singing\n",
    "Stuck up on that stage singing\n",
    "All I know are sad songs, sad songs\n",
    "Darling, all I know are sad songs, sad songs\n",
    "\"\"\"\n",
    "\n",
    "test_output_4 = query_llm(test_lyric_4)\n",
    "test_output_4 = eval(test_output_4.replace(\"true\", \"True\").replace(\"false\", \"False\"))\n",
    "test_output_4"
   ]
  },
  {
   "cell_type": "code",
   "execution_count": 28,
   "metadata": {},
   "outputs": [
    {
     "name": "stdout",
     "output_type": "stream",
     "text": [
      "CPU times: user 7min 26s, sys: 12.7 s, total: 7min 39s\n",
      "Wall time: 44.8 s\n"
     ]
    },
    {
     "data": {
      "text/plain": [
       "{'Alert': False,\n",
       " 'Excited': True,\n",
       " 'Happy': True,\n",
       " 'Content': True,\n",
       " 'Relaxed': False,\n",
       " 'Calm': False,\n",
       " 'Bored': False,\n",
       " 'Depressed': False,\n",
       " 'Sad': False,\n",
       " 'Distressed': False,\n",
       " 'Angry': False,\n",
       " 'Tense': False}"
      ]
     },
     "execution_count": 28,
     "metadata": {},
     "output_type": "execute_result"
    }
   ],
   "source": [
    "%%time\n",
    "test_lyric_5 = \"\"\"\n",
    "Going out tonight, changes into something red Her mother doesn't like that kinda dress Everything she never had, she's showing off\n",
    "\n",
    "Driving too fast, moon is breaking through her hair\n",
    "\n",
    "She's heading for something that she won't forget Having no regrets is all that you really want We're only getting older, baby And I've been thinking about you lately\n",
    "\n",
    "Does it ever drive you crazy Just how fast the night changes Everything you've ever dreamed of Disappearing when you wake up But there's nothing to be afraid of Even when the night changes It will never change me and you Chasing it tonight, doubts are running 'round her head He's waiting, hides behind his cigarette\n",
    "\n",
    "Heart is beating loud, and she doesn't want it to stop Moving too fast, moon is lighting up her skin She's falling, doesn't even know it yet\n",
    "\n",
    "Having no regrets is all that she really wants We're only getting older, baby And I've been thinking about you lately Does it ever drive you crazy\n",
    "\n",
    "\n",
    "Having no regrets is all that she really wants We're only getting older, baby And I've been thinking about you lately Does it ever drive you crazy\n",
    "\n",
    "Just how fast the night changes Everything that you've ever dreamed of Disappearing when you wake up But there's nothing to be afraid of Even when the night changes It will never change me and you Going out tonight, changes into something red Her mother doesn't like that kinda dress Reminds her of a missing piece of innocence she lost\n",
    "\n",
    "We're only getting older baby And I've been thinking about you lately Does it ever drive you crazy Just how fast the night changes Everything that you've ever dreamed of Disappearing when you wake up But there's nothing to be afraid of Even when the night changes It will never change, baby It will never change, baby It will never change me and you\n",
    "\"\"\"\n",
    "\n",
    "\n",
    "test_output_5 = query_llm(test_lyric_5)\n",
    "test_output_5 = eval(test_output_5.replace(\"true\", \"True\").replace(\"false\", \"False\"))\n",
    "test_output_5"
   ]
  }
 ],
 "metadata": {
  "kernelspec": {
   "display_name": "mood_recognition",
   "language": "python",
   "name": "python3"
  },
  "language_info": {
   "codemirror_mode": {
    "name": "ipython",
    "version": 3
   },
   "file_extension": ".py",
   "mimetype": "text/x-python",
   "name": "python",
   "nbconvert_exporter": "python",
   "pygments_lexer": "ipython3",
   "version": "3.12.0"
  }
 },
 "nbformat": 4,
 "nbformat_minor": 2
}
