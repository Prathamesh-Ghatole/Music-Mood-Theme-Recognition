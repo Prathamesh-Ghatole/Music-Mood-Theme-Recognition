{
 "cells": [
  {
   "cell_type": "code",
   "execution_count": 1,
   "metadata": {},
   "outputs": [],
   "source": [
    "import requests\n",
    "from bs4 import BeautifulSoup\n",
    "\n",
    "# config\n",
    "from config import genius_access_token"
   ]
  },
  {
   "cell_type": "code",
   "execution_count": 2,
   "metadata": {},
   "outputs": [],
   "source": [
    "access_token = genius_access_token"
   ]
  },
  {
   "cell_type": "code",
   "execution_count": 3,
   "metadata": {},
   "outputs": [],
   "source": [
    "def search_song(song_name):\n",
    "    # Replace 'YOUR_ACCESS_TOKEN' with your Genius API access token\n",
    "    headers = {'Authorization': 'Bearer ' + access_token}\n",
    "    base_url = 'https://api.genius.com'\n",
    "    search_url = base_url + '/search?per_page=10&page=1&q=' + song_name\n",
    "\n",
    "    try:\n",
    "        response = requests.get(search_url, headers=headers)\n",
    "        response.raise_for_status()\n",
    "        data = response.json()\n",
    "        \n",
    "        # Check if any hits were found\n",
    "        if data['meta']['status'] == 200 and data['response']['hits']:\n",
    "            # Extract the first hit\n",
    "            hit = data['response']['hits'][0]['result']\n",
    "            # Print the page URL\n",
    "            return hit['url']\n",
    "        else:\n",
    "            return None\n",
    "    except requests.exceptions.RequestException as e:\n",
    "        print(\"Error:\", e)"
   ]
  },
  {
   "cell_type": "code",
   "execution_count": 40,
   "metadata": {},
   "outputs": [],
   "source": [
    "def scrape_song_lyrics(url):\n",
    "    page = requests.get(url)\n",
    "    soup = BeautifulSoup(page.text, \"html.parser\")\n",
    "\n",
    "    artist_name = (\n",
    "        soup.select('div[class*=\"HeaderArtistAndTracklistdesktop__Container-sc-\"]')[0]\n",
    "        .select('a[class*=\"HeaderArtistAndTracklistdesktop__Artist-sc-\"]')[0]\n",
    "        .get_text()\n",
    "    )\n",
    "    song_name = soup.select('h1[class*=\"SongHeaderdesktop__Title-sc-\"]')[0].get_text()\n",
    "\n",
    "    print(f\"Scraping {song_name} by {artist_name}...\")\n",
    "\n",
    "    lyrics = soup.select('div[class*=\"Lyrics__Container-sc\"]')\n",
    "    lyrics = \"\\n\".join([lyric.get_text(separator=\"\\n\") for lyric in lyrics])\n",
    "\n",
    "    print(lyrics)\n",
    "\n",
    "    return {\"song_name\": song_name, \"artist_name\": artist_name, \"lyrics\": lyrics}"
   ]
  },
  {
   "cell_type": "code",
   "execution_count": 41,
   "metadata": {},
   "outputs": [],
   "source": [
    "def get_lyrics(song_name):\n",
    "    url = search_song(song_name)\n",
    "    if url:\n",
    "        lyrics = scrape_song_lyrics(url)\n",
    "        return lyrics\n",
    "    else:\n",
    "        return None"
   ]
  },
  {
   "cell_type": "code",
   "execution_count": 42,
   "metadata": {},
   "outputs": [
    {
     "name": "stdout",
     "output_type": "stream",
     "text": [
      "Scraping Ghost by Justin Bieber...\n",
      "[Verse 1]\n",
      "Youngblood thinks there's always tomorrow\n",
      "I miss your touch some nights when I'm hollow\n",
      "I know you crossed a bridge that I can't follow\n",
      "Since the love that you left is all that I get, I want you to know\n",
      "[Chorus]\n",
      "That if I can't be close to you\n",
      "I'll settle for the ghost of you\n",
      "I miss you more than life (More than life)\n",
      "And if you can't be next to me\n",
      "Your memory is ecstasy\n",
      "I miss you more than life\n",
      "I miss you more than life\n",
      "[Verse 2]\n",
      "Youngblood thinks there's always tomorrow\n",
      "I need more time, but time can't be borrowed\n",
      "I'd leave it all behind if I could follow\n",
      "Since the love that you left is all that I get, I want you to know\n",
      "[Chorus]\n",
      "That if I can't be close to you\n",
      "I'll settle for the ghost of you\n",
      "I miss you more than life (Yeah)\n",
      "And if you can't be next to me\n",
      "Your memory is ecstasy (Oh)\n",
      "I miss you more than life\n",
      "I miss you more than life\n",
      "[Bridge]\n",
      "Woah\n",
      "Na-na-na\n",
      "More than life (Oh)\n",
      "[Chorus]\n",
      "So if I can't get close to you\n",
      "I'll settle for the ghost of you\n",
      "I miss you more than life\n",
      "And if you can't be next to me\n",
      "Your memory is ecstasy\n",
      "I miss you more than life\n",
      "I miss you more than life\n"
     ]
    },
    {
     "data": {
      "text/plain": [
       "{'song_name': 'Ghost',\n",
       " 'artist_name': 'Justin Bieber',\n",
       " 'lyrics': \"[Verse 1]\\nYoungblood thinks there's always tomorrow\\nI miss your touch some nights when I'm hollow\\nI know you crossed a bridge that I can't follow\\nSince the love that you left is all that I\\u205fget,\\u205fI\\u205fwant you to\\u205fknow\\n[Chorus]\\nThat if I\\u205fcan't be close to you\\nI'll settle for the ghost of you\\nI miss you more than life (More than life)\\nAnd if you can't be next to me\\nYour memory is ecstasy\\nI miss you more than life\\nI miss you more than life\\n[Verse 2]\\nYoungblood thinks there's always tomorrow\\nI need more time, but time can't be borrowed\\nI'd leave it all behind if I could follow\\nSince the love that you left is all that I get, I want you to know\\n[Chorus]\\nThat if I can't be close to you\\nI'll settle for the ghost of you\\nI miss you more than life (Yeah)\\nAnd if you can't be next to me\\nYour memory is ecstasy (Oh)\\nI miss you more than life\\nI miss you more than life\\n[Bridge]\\nWoah\\nNa-na-na\\nMore than life (Oh)\\n[Chorus]\\nSo if I can't get close to you\\nI'll settle for the ghost of you\\nI miss you more than life\\nAnd if you can't be next to me\\nYour memory is ecstasy\\nI miss you more than life\\nI miss you more than life\"}"
      ]
     },
     "execution_count": 42,
     "metadata": {},
     "output_type": "execute_result"
    }
   ],
   "source": [
    "# get_lyrics(\"Hikoyuki Sawano - Ymniam - Mkorch\")\n",
    "get_lyrics(\"Justin Bieber - Ghost\")"
   ]
  }
 ],
 "metadata": {
  "kernelspec": {
   "display_name": "env",
   "language": "python",
   "name": "python3"
  },
  "language_info": {
   "codemirror_mode": {
    "name": "ipython",
    "version": 3
   },
   "file_extension": ".py",
   "mimetype": "text/x-python",
   "name": "python",
   "nbconvert_exporter": "python",
   "pygments_lexer": "ipython3",
   "version": "3.12.2"
  }
 },
 "nbformat": 4,
 "nbformat_minor": 2
}
